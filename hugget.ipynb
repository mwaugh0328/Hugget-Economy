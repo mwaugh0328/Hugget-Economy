{
 "cells": [
  {
   "cell_type": "code",
   "execution_count": 1,
   "metadata": {},
   "outputs": [],
   "source": [
    "using BenchmarkTools, SpecialFunctions\n",
    "using LinearAlgebra, Statistics\n",
    "using Parameters\n",
    "using Plots\n",
    "using Optim #https://github.com/JuliaNLSolvers/Optim.jl\n",
    "using Random, Distributions\n",
    "gr(fmt=:png); # setting for easier display in jupyter notebooks\n",
    "using TypedTables\n",
    "using ThreadsX, Folds # these are multithreading tools\n",
    "using QuantEcon\n",
    "using SparseArrays\n",
    "using BasisMatrices"
   ]
  },
  {
   "cell_type": "code",
   "execution_count": 2,
   "metadata": {},
   "outputs": [
    {
     "data": {
      "text/plain": [
       "##NamedTuple_kw#257 (generic function with 2 methods)"
      ]
     },
     "execution_count": 2,
     "metadata": {},
     "output_type": "execute_result"
    }
   ],
   "source": [
    "model_params = @with_kw (\n",
    "    β= 0.96,\n",
    "    R = 1.0292,\n",
    "    γ = 3.0,\n",
    "    amin = -3.0,\n",
    "    amax = 16.0,\n",
    "    Na=100,\n",
    "    agrid = range(amin,amax,length=Na),\n",
    "    Nshocks = 7,\n",
    "    ρ = 0.20,\n",
    "    σ = 0.3919,\n",
    "    mc= rouwenhorst(Nshocks, ρ, σ),\n",
    "    Niter = 500,\n",
    "    )"
   ]
  },
  {
   "cell_type": "code",
   "execution_count": 28,
   "metadata": {},
   "outputs": [
    {
     "data": {
      "text/plain": [
       "stationary_dist (generic function with 1 method)"
      ]
     },
     "execution_count": 28,
     "metadata": {},
     "output_type": "execute_result"
    }
   ],
   "source": [
    "function consumption(R, a, ap, w)\n",
    "    \n",
    "        c = R*a .- ap .+ w\n",
    "    \n",
    "    return c\n",
    "    \n",
    "end\n",
    "\n",
    "##########################################################################\n",
    "##########################################################################\n",
    "\n",
    "function utility(c, γ)\n",
    "    \n",
    "    if abs(γ - 1.0) < 1e-10\n",
    "        \n",
    "        (c < 1e-5 ? -1e10 : log(c)) \n",
    "\n",
    "    else\n",
    "        (c < 1e-5 ? -1e10 : c^( 1.0 - γ) / (1.0 - γ)) \n",
    "    end\n",
    "\n",
    "end\n",
    "\n",
    "##########################################################################\n",
    "##########################################################################\n",
    "\n",
    "function make_utility(model_params)\n",
    "    \n",
    "    @unpack Na, Nshocks, γ, R, mc, agrid = model_params\n",
    "    \n",
    "    utility_grid = Array{Float64}(undef, Na, Na, Nshocks)\n",
    "    \n",
    "    a =  reshape(agrid, Na, 1)\n",
    "    \n",
    "    a_prime = reshape(agrid, 1, Na)\n",
    "    \n",
    "    for xxx = 1:Nshocks\n",
    "        \n",
    "        c = consumption(R, a, a_prime, exp.(mc.state_values[xxx]))\n",
    "        \n",
    "        utility_grid[:, :, xxx] = utility.(c, γ)\n",
    "    \n",
    "    end\n",
    "    \n",
    "    return utility_grid\n",
    "    \n",
    "end\n",
    "\n",
    "##########################################################################\n",
    "##########################################################################\n",
    "\n",
    "function compute_EV(v::Array{T}, mc_probs::Vector{T}) where T\n",
    "     \n",
    "    # so mc_probs should be a 1 by Nshock row vector \n",
    "    # then v should be Nassset state, Nshock state matrix\n",
    "    # we want to integrate this so transpose, so for a given\n",
    "    # asset state integrate accross different shock outcomes\n",
    "    \n",
    "    return  (mc_probs' * v' )\n",
    "\n",
    "end\n",
    "\n",
    "##########################################################################\n",
    "##########################################################################\n",
    "\n",
    "function value_function_itteration(model_params ; tol = 10^-3)\n",
    "    \n",
    "    @unpack Na, Nshocks, Niter, β, mc = model_params\n",
    "    \n",
    "    u = make_utility(model_params)\n",
    "\n",
    "    Tv = zeros(eltype(u), Na, Nshocks)\n",
    "    \n",
    "    v = similar(Tv)\n",
    "\n",
    "    for iter = 1:Niter\n",
    "\n",
    "        for xxx = 1:Nshocks\n",
    "                    \n",
    "            βEV = compute_EV(β*Tv, mc.p[xxx,:])\n",
    "            \n",
    "            maximum!(view(Tv,:,xxx), u[:, :, xxx] .+ βEV)\n",
    "            #this is fastest and writes on TV directly\n",
    "            # lower number of allocations too\n",
    "            # the view command is what allows the direct writing on \n",
    "            # a slice of the array, without it, nodice\n",
    "\n",
    "        end\n",
    "    \n",
    "        test_tol = norm(Tv - v)\n",
    "        \n",
    "        if test_tol < tol\n",
    "            \n",
    "            #println(\"value function converged\")\n",
    "            #println(iter)\n",
    "            #println(test_tol)\n",
    "                        \n",
    "            break\n",
    "        end\n",
    "        \n",
    "        v = copy(Tv)\n",
    "\n",
    "    end\n",
    "    \n",
    "    aindx = Array{CartesianIndex{2}}(undef, size(Tv))\n",
    "            \n",
    "    for xxx = 1:Nshocks\n",
    "                    \n",
    "        βEV = compute_EV(β*Tv, mc.p[xxx,:])\n",
    "        \n",
    "        Tv[:, xxx], aindx[:, xxx] = findmax(u[:, :, xxx] .+ βEV , dims = 2)\n",
    "        # now get the policies\n",
    "\n",
    "    end\n",
    "    \n",
    "    return Tv, aindx\n",
    "end\n",
    "\n",
    "\n",
    "##########################################################################\n",
    "##########################################################################\n",
    "\n",
    "\n",
    "function make_transition_prob(model_params, asset_indx::Matrix{CartesianIndex{2}})\n",
    "      \n",
    "    @unpack Na, Nshocks, mc = model_params\n",
    "\n",
    "    statesize = convert(Int64, Na*Nshocks)\n",
    "    \n",
    "    transition_prob = Array{Float64}(undef, statesize, statesize)\n",
    "\n",
    "    for ast = 1:Na\n",
    "        \n",
    "        ast_counter = convert(Int64, (ast - 1)*Nshocks)\n",
    "            \n",
    "        for shk = 1:Nshocks\n",
    "            \n",
    "            foo = zeros(1, Na)\n",
    "    \n",
    "            foo[asset_indx[ast, shk][2]] = 1.0\n",
    "    \n",
    "            transition_prob[shk + ast_counter, :] = BasisMatrices.row_kron(foo, mc.p[shk,:]' )\n",
    "            # this part on the row still confuses me a bit...need to explain better.\n",
    "            \n",
    "            #println(shk + ast_counter)\n",
    "            \n",
    "        end\n",
    "        \n",
    "    end\n",
    "    \n",
    "    return transition_prob\n",
    "    \n",
    "end\n",
    "\n",
    "##########################################################################\n",
    "##########################################################################\n",
    "\n",
    "function stationary_dist(Q::Array{Float64, 2})\n",
    "    # this is faster than the quant econ canned routine\n",
    "    # from lyon-waugh implementation\n",
    "    \n",
    "    L = zeros(size(Q, 1))\n",
    "    \n",
    "    L[1] = 1.0\n",
    "    \n",
    "    max_it = 5000\n",
    "    \n",
    "    Lnew = similar(L)\n",
    "    \n",
    "    for xxx = 1:max_it\n",
    "        \n",
    "        Lnew = transpose(Q) * L\n",
    "        #this ordering is also better in julia\n",
    "        # than my matlab implementation of Q*L (1, na*nshock)\n",
    "                \n",
    "        err = maximum(abs, L - Lnew)\n",
    "        \n",
    "        copy!(L, Lnew)\n",
    "        # this surprisingly makes a big difference\n",
    "        # but in the vfi it causes a lot of problems?\n",
    "        \n",
    "        err < 1e-10 && break\n",
    "        \n",
    "    end\n",
    "    \n",
    "    return L\n",
    "end"
   ]
  },
  {
   "cell_type": "code",
   "execution_count": 376,
   "metadata": {},
   "outputs": [
    {
     "name": "stdout",
     "output_type": "stream",
     "text": [
      "search: \u001b[0m\u001b[1mT\u001b[22m\u001b[0m\u001b[1mr\u001b[22m\u001b[0m\u001b[1ma\u001b[22m\u001b[0m\u001b[1mn\u001b[22m\u001b[0m\u001b[1ms\u001b[22m\u001b[0m\u001b[1mp\u001b[22m\u001b[0m\u001b[1mo\u001b[22m\u001b[0m\u001b[1ms\u001b[22m\u001b[0m\u001b[1me\u001b[22m \u001b[0m\u001b[1mt\u001b[22m\u001b[0m\u001b[1mr\u001b[22m\u001b[0m\u001b[1ma\u001b[22m\u001b[0m\u001b[1mn\u001b[22m\u001b[0m\u001b[1ms\u001b[22m\u001b[0m\u001b[1mp\u001b[22m\u001b[0m\u001b[1mo\u001b[22m\u001b[0m\u001b[1ms\u001b[22m\u001b[0m\u001b[1me\u001b[22m \u001b[0m\u001b[1mt\u001b[22m\u001b[0m\u001b[1mr\u001b[22m\u001b[0m\u001b[1ma\u001b[22m\u001b[0m\u001b[1mn\u001b[22m\u001b[0m\u001b[1ms\u001b[22m\u001b[0m\u001b[1mp\u001b[22m\u001b[0m\u001b[1mo\u001b[22m\u001b[0m\u001b[1ms\u001b[22m\u001b[0m\u001b[1me\u001b[22m! copy_\u001b[0m\u001b[1mt\u001b[22m\u001b[0m\u001b[1mr\u001b[22m\u001b[0m\u001b[1ma\u001b[22m\u001b[0m\u001b[1mn\u001b[22m\u001b[0m\u001b[1ms\u001b[22m\u001b[0m\u001b[1mp\u001b[22m\u001b[0m\u001b[1mo\u001b[22m\u001b[0m\u001b[1ms\u001b[22m\u001b[0m\u001b[1me\u001b[22m! \u001b[0m\u001b[1mT\u001b[22m\u001b[0m\u001b[1mr\u001b[22m\u001b[0m\u001b[1ma\u001b[22m\u001b[0m\u001b[1mn\u001b[22m\u001b[0m\u001b[1ms\u001b[22m\u001b[0m\u001b[1mp\u001b[22marentC\u001b[0m\u001b[1mo\u001b[22mlor\n",
      "\n"
     ]
    },
    {
     "data": {
      "text/latex": [
       "\\begin{verbatim}\n",
       "Transpose\n",
       "\\end{verbatim}\n",
       "Lazy wrapper type for a transpose view of the underlying linear algebra object, usually an \\texttt{AbstractVector}/\\texttt{AbstractMatrix}, but also some \\texttt{Factorization}, for instance. Usually, the \\texttt{Transpose} constructor should not be called directly, use \\href{@ref}{\\texttt{transpose}} instead. To materialize the view use \\href{@ref}{\\texttt{copy}}.\n",
       "\n",
       "This type is intended for linear algebra usage - for general data manipulation see \\href{@ref Base.permutedims}{\\texttt{permutedims}}.\n",
       "\n",
       "\\section{Examples}\n",
       "\\begin{verbatim}\n",
       "julia> A = [3+2im 9+2im; 8+7im  4+6im]\n",
       "2×2 Matrix{Complex{Int64}}:\n",
       " 3+2im  9+2im\n",
       " 8+7im  4+6im\n",
       "\n",
       "julia> transpose(A)\n",
       "2×2 transpose(::Matrix{Complex{Int64}}) with eltype Complex{Int64}:\n",
       " 3+2im  8+7im\n",
       " 9+2im  4+6im\n",
       "\\end{verbatim}\n"
      ],
      "text/markdown": [
       "```\n",
       "Transpose\n",
       "```\n",
       "\n",
       "Lazy wrapper type for a transpose view of the underlying linear algebra object, usually an `AbstractVector`/`AbstractMatrix`, but also some `Factorization`, for instance. Usually, the `Transpose` constructor should not be called directly, use [`transpose`](@ref) instead. To materialize the view use [`copy`](@ref).\n",
       "\n",
       "This type is intended for linear algebra usage - for general data manipulation see [`permutedims`](@ref Base.permutedims).\n",
       "\n",
       "# Examples\n",
       "\n",
       "```jldoctest\n",
       "julia> A = [3+2im 9+2im; 8+7im  4+6im]\n",
       "2×2 Matrix{Complex{Int64}}:\n",
       " 3+2im  9+2im\n",
       " 8+7im  4+6im\n",
       "\n",
       "julia> transpose(A)\n",
       "2×2 transpose(::Matrix{Complex{Int64}}) with eltype Complex{Int64}:\n",
       " 3+2im  8+7im\n",
       " 9+2im  4+6im\n",
       "```\n"
      ],
      "text/plain": [
       "\u001b[36m  Transpose\u001b[39m\n",
       "\n",
       "  Lazy wrapper type for a transpose view of the underlying linear algebra\n",
       "  object, usually an \u001b[36mAbstractVector\u001b[39m/\u001b[36mAbstractMatrix\u001b[39m, but also some\n",
       "  \u001b[36mFactorization\u001b[39m, for instance. Usually, the \u001b[36mTranspose\u001b[39m constructor should not\n",
       "  be called directly, use \u001b[36mtranspose\u001b[39m instead. To materialize the view use \u001b[36mcopy\u001b[39m.\n",
       "\n",
       "  This type is intended for linear algebra usage - for general data\n",
       "  manipulation see \u001b[36mpermutedims\u001b[39m.\n",
       "\n",
       "\u001b[1m  Examples\u001b[22m\n",
       "\u001b[1m  ≡≡≡≡≡≡≡≡≡≡\u001b[22m\n",
       "\n",
       "\u001b[36m  julia> A = [3+2im 9+2im; 8+7im  4+6im]\u001b[39m\n",
       "\u001b[36m  2×2 Matrix{Complex{Int64}}:\u001b[39m\n",
       "\u001b[36m   3+2im  9+2im\u001b[39m\n",
       "\u001b[36m   8+7im  4+6im\u001b[39m\n",
       "\u001b[36m  \u001b[39m\n",
       "\u001b[36m  julia> transpose(A)\u001b[39m\n",
       "\u001b[36m  2×2 transpose(::Matrix{Complex{Int64}}) with eltype Complex{Int64}:\u001b[39m\n",
       "\u001b[36m   3+2im  8+7im\u001b[39m\n",
       "\u001b[36m   9+2im  4+6im\u001b[39m"
      ]
     },
     "execution_count": 376,
     "metadata": {},
     "output_type": "execute_result"
    }
   ],
   "source": [
    "?Transpose"
   ]
  },
  {
   "cell_type": "code",
   "execution_count": 33,
   "metadata": {},
   "outputs": [
    {
     "name": "stdout",
     "output_type": "stream",
     "text": [
      "  97.741 ms (29571 allocations: 255.13 MiB)\n"
     ]
    }
   ],
   "source": [
    "@btime value_function_itteration(test ; tol = 10^-3);"
   ]
  },
  {
   "cell_type": "code",
   "execution_count": 396,
   "metadata": {},
   "outputs": [
    {
     "name": "stdout",
     "output_type": "stream",
     "text": [
      "  74.549 ms (14271 allocations: 253.57 MiB)\n"
     ]
    }
   ],
   "source": [
    "@btime vfi2(test ; tol = 10^-3);"
   ]
  },
  {
   "cell_type": "code",
   "execution_count": 32,
   "metadata": {},
   "outputs": [
    {
     "name": "stdout",
     "output_type": "stream",
     "text": [
      "  90.356 ms (14271 allocations: 253.57 MiB)\n"
     ]
    }
   ],
   "source": [
    "@btime vfi2(test ; tol = 10^-3);"
   ]
  },
  {
   "cell_type": "code",
   "execution_count": 424,
   "metadata": {},
   "outputs": [
    {
     "name": "stdout",
     "output_type": "stream",
     "text": [
      "  59.318 ms (1094 allocations: 8.48 MiB)\n"
     ]
    }
   ],
   "source": [
    "@btime stationary_dist(tprob);"
   ]
  },
  {
   "cell_type": "code",
   "execution_count": 414,
   "metadata": {},
   "outputs": [
    {
     "name": "stdout",
     "output_type": "stream",
     "text": [
      "  59.537 ms (1094 allocations: 8.48 MiB)\n"
     ]
    }
   ],
   "source": [
    "@btime stationary_dist(tprob);"
   ]
  },
  {
   "cell_type": "code",
   "execution_count": 29,
   "metadata": {},
   "outputs": [
    {
     "name": "stdout",
     "output_type": "stream",
     "text": [
      "  1.525 ms (32 allocations: 254.00 KiB)\n"
     ]
    }
   ],
   "source": [
    "@btime stationary_dist(tprob);"
   ]
  },
  {
   "cell_type": "code",
   "execution_count": 31,
   "metadata": {},
   "outputs": [
    {
     "name": "stdout",
     "output_type": "stream",
     "text": [
      "  0.125913 seconds (14.27 k allocations: 253.569 MiB, 16.93% gc time)\n",
      "vfi done\n",
      "  0.010687 seconds (3.00 k allocations: 16.388 MiB)\n",
      "  0.100972 seconds (1.09 k allocations: 8.480 MiB)\n"
     ]
    },
    {
     "data": {
      "image/png": "[encoded data removed]"
     },
     "execution_count": 31,
     "metadata": {},
     "output_type": "execute_result"
    }
   ],
   "source": [
    "test = model_params(σ = 0.3919, Nshocks = 10, Na = 100, amin = -3.0, amax = 16)\n",
    "\n",
    "@time vfout, pout = vfi2(test ; tol = 10^-3);\n",
    "\n",
    "println(\"vfi done\")\n",
    "\n",
    "@time tprob = make_transition_prob(test, pout);\n",
    "\n",
    "@time  st = stationary_dist(tprob);\n",
    "\n",
    "st = reshape(st,test.Nshocks,test.Na)'\n",
    "\n",
    "plot(test.agrid, sum(st, dims = 2))"
   ]
  },
  {
   "cell_type": "code",
   "execution_count": 409,
   "metadata": {},
   "outputs": [
    {
     "name": "stdout",
     "output_type": "stream",
     "text": [
      "  0.105520 seconds (14.27 k allocations: 253.569 MiB, 16.52% gc time)\n",
      "vfi done\n",
      "  0.014850 seconds (3.00 k allocations: 16.388 MiB)\n",
      "transmat done\n",
      "  0.316874 seconds (11.01 k allocations: 20.565 MiB)\n",
      "stationary done\n"
     ]
    },
    {
     "data": {
      "image/png": "[encoded data removed]"
     },
     "execution_count": 409,
     "metadata": {},
     "output_type": "execute_result"
    }
   ],
   "source": [
    "test = model_params(σ = 0.3919, Nshocks = 10, Na = 100, amin = -3.0, amax = 16)\n",
    "\n",
    "@time vfout, pout = vfi2(test ; tol = 10^-3);\n",
    "\n",
    "println(\"vfi done\")\n",
    "\n",
    "@time tprob = make_transition_prob(test, pout);\n",
    "\n",
    "println(\"transmat done\")\n",
    "\n",
    "@time st  = stationary_distributions(MarkovChain(tprob))[1]\n",
    "# this part is very slow...\n",
    "\n",
    "println(\"stationary done\")\n",
    "\n",
    "st = reshape(st,test.Nshocks,test.Na)'\n",
    "\n",
    "plot(test.agrid, sum(st, dims = 2))"
   ]
  },
  {
   "cell_type": "code",
   "execution_count": 191,
   "metadata": {},
   "outputs": [
    {
     "name": "stdout",
     "output_type": "stream",
     "text": [
      "search: \u001b[0m\u001b[1mm\u001b[22m\u001b[0m\u001b[1ma\u001b[22m\u001b[0m\u001b[1mx\u001b[22m\u001b[0m\u001b[1mi\u001b[22m\u001b[0m\u001b[1mm\u001b[22m\u001b[0m\u001b[1mu\u001b[22m\u001b[0m\u001b[1mm\u001b[22m\u001b[0m\u001b[1m!\u001b[22m \u001b[0m\u001b[1mm\u001b[22m\u001b[0m\u001b[1ma\u001b[22m\u001b[0m\u001b[1mx\u001b[22m\u001b[0m\u001b[1mi\u001b[22m\u001b[0m\u001b[1mm\u001b[22m\u001b[0m\u001b[1mu\u001b[22m\u001b[0m\u001b[1mm\u001b[22m\n",
      "\n"
     ]
    },
    {
     "data": {
      "text/latex": [
       "\\begin{verbatim}\n",
       "maximum!(r, A)\n",
       "\\end{verbatim}\n",
       "Compute the maximum value of \\texttt{A} over the singleton dimensions of \\texttt{r}, and write results to \\texttt{r}.\n",
       "\n",
       "\\section{Examples}\n",
       "\\begin{verbatim}\n",
       "julia> A = [1 2; 3 4]\n",
       "2×2 Matrix{Int64}:\n",
       " 1  2\n",
       " 3  4\n",
       "\n",
       "julia> maximum!([1; 1], A)\n",
       "2-element Vector{Int64}:\n",
       " 2\n",
       " 4\n",
       "\n",
       "julia> maximum!([1 1], A)\n",
       "1×2 Matrix{Int64}:\n",
       " 3  4\n",
       "\\end{verbatim}\n"
      ],
      "text/markdown": [
       "```\n",
       "maximum!(r, A)\n",
       "```\n",
       "\n",
       "Compute the maximum value of `A` over the singleton dimensions of `r`, and write results to `r`.\n",
       "\n",
       "# Examples\n",
       "\n",
       "```jldoctest\n",
       "julia> A = [1 2; 3 4]\n",
       "2×2 Matrix{Int64}:\n",
       " 1  2\n",
       " 3  4\n",
       "\n",
       "julia> maximum!([1; 1], A)\n",
       "2-element Vector{Int64}:\n",
       " 2\n",
       " 4\n",
       "\n",
       "julia> maximum!([1 1], A)\n",
       "1×2 Matrix{Int64}:\n",
       " 3  4\n",
       "```\n"
      ],
      "text/plain": [
       "\u001b[36m  maximum!(r, A)\u001b[39m\n",
       "\n",
       "  Compute the maximum value of \u001b[36mA\u001b[39m over the singleton dimensions of \u001b[36mr\u001b[39m, and write\n",
       "  results to \u001b[36mr\u001b[39m.\n",
       "\n",
       "\u001b[1m  Examples\u001b[22m\n",
       "\u001b[1m  ≡≡≡≡≡≡≡≡≡≡\u001b[22m\n",
       "\n",
       "\u001b[36m  julia> A = [1 2; 3 4]\u001b[39m\n",
       "\u001b[36m  2×2 Matrix{Int64}:\u001b[39m\n",
       "\u001b[36m   1  2\u001b[39m\n",
       "\u001b[36m   3  4\u001b[39m\n",
       "\u001b[36m  \u001b[39m\n",
       "\u001b[36m  julia> maximum!([1; 1], A)\u001b[39m\n",
       "\u001b[36m  2-element Vector{Int64}:\u001b[39m\n",
       "\u001b[36m   2\u001b[39m\n",
       "\u001b[36m   4\u001b[39m\n",
       "\u001b[36m  \u001b[39m\n",
       "\u001b[36m  julia> maximum!([1 1], A)\u001b[39m\n",
       "\u001b[36m  1×2 Matrix{Int64}:\u001b[39m\n",
       "\u001b[36m   3  4\u001b[39m"
      ]
     },
     "execution_count": 191,
     "metadata": {},
     "output_type": "execute_result"
    }
   ],
   "source": [
    "?maximum!"
   ]
  },
  {
   "cell_type": "code",
   "execution_count": 198,
   "metadata": {},
   "outputs": [
    {
     "data": {
      "text/plain": [
       "2×2 Matrix{Int64}:\n",
       " 1  2\n",
       " 3  4"
      ]
     },
     "execution_count": 198,
     "metadata": {},
     "output_type": "execute_result"
    }
   ],
   "source": [
    "A = [1 2; 3 4]"
   ]
  },
  {
   "cell_type": "code",
   "execution_count": 207,
   "metadata": {},
   "outputs": [
    {
     "data": {
      "text/plain": [
       "2-element Vector{Int64}:\n",
       " 2\n",
       " 4"
      ]
     },
     "execution_count": 207,
     "metadata": {},
     "output_type": "execute_result"
    }
   ],
   "source": [
    "r = [3; 4]\n",
    "\n",
    "maximum!(r, A)"
   ]
  },
  {
   "cell_type": "code",
   "execution_count": 208,
   "metadata": {},
   "outputs": [
    {
     "data": {
      "text/plain": [
       "2-element Vector{Int64}:\n",
       " 2\n",
       " 4"
      ]
     },
     "execution_count": 208,
     "metadata": {},
     "output_type": "execute_result"
    }
   ],
   "source": [
    "r"
   ]
  },
  {
   "cell_type": "code",
   "execution_count": 214,
   "metadata": {},
   "outputs": [
    {
     "data": {
      "text/plain": [
       "5×5×3 Array{Float64, 3}:\n",
       "[:, :, 1] =\n",
       " -1.54987    -108.177      -1.0e10     -1.0e10    -1.0e10\n",
       " -0.426624     -1.47316   -73.3094     -1.0e10    -1.0e10\n",
       " -0.196001     -0.415346   -1.40201   -52.9377    -1.0e10\n",
       " -0.112117     -0.192467   -0.404509   -1.33589  -40.0126\n",
       " -0.0724858    -0.110582   -0.189027   -0.39409   -1.27434\n",
       "\n",
       "[:, :, 2] =\n",
       " -0.5        -2.0        -1.0e10       -1.0e10      -1.0e10\n",
       " -0.217959   -0.485714   -1.88812   -2345.66        -1.0e10\n",
       " -0.121428   -0.213817   -0.472031     -1.78538   -586.414\n",
       " -0.0772688  -0.1197     -0.209792     -0.458918    -1.6908\n",
       " -0.0534542  -0.0763894  -0.118008     -0.205879    -0.446345\n",
       "\n",
       "[:, :, 3] =\n",
       " -0.161304   -0.314637   -0.864269   -7.36201    -1.0e10\n",
       " -0.0965891  -0.158662   -0.307474   -0.832021   -6.6016\n",
       " -0.0642424  -0.0953613  -0.156084   -0.300552   -0.801544\n",
       " -0.0457913  -0.0635752  -0.0941567  -0.153568   -0.293862\n",
       " -0.0342822  -0.0453893  -0.0629184  -0.0929749  -0.151113"
      ]
     },
     "execution_count": 214,
     "metadata": {},
     "output_type": "execute_result"
    }
   ],
   "source": [
    "test = model_params(σ = 0.3919, Nshocks = 3, Na = 5, amin = 0, amax = 2)\n",
    "\n",
    "u = make_utility(test)"
   ]
  },
  {
   "cell_type": "code",
   "execution_count": 327,
   "metadata": {},
   "outputs": [
    {
     "ename": "LoadError",
     "evalue": "MethodError: no method matching transduce_assoc(::Transducers.IdentityTransducer, ::Transducers.Completing{typeof(max)}, ::Transducers.InitOf{Folds.Implementations.FoldsInitOf}, ::Transducers.Eduction{Transducers.Reduction{Transducers.Map{typeof(identity)}, Transducers.BottomRF{Transducers.Completing{typeof(BangBang.push!!)}}}, Matrix{Float64}}; dims=2, simd=Val{true}())\n\u001b[0mClosest candidates are:\n\u001b[0m  transduce_assoc(::Transducers.Transducer, ::F, ::Any, ::Any; simd, basesize, stoppable, nestlevel) where F at C:\\Users\\mwaugh\\.julia\\packages\\Transducers\\4zaoS\\src\\reduce.jl:104\u001b[91m got unsupported keyword argument \"dims\"\u001b[39m",
     "output_type": "error",
     "traceback": [
      "MethodError: no method matching transduce_assoc(::Transducers.IdentityTransducer, ::Transducers.Completing{typeof(max)}, ::Transducers.InitOf{Folds.Implementations.FoldsInitOf}, ::Transducers.Eduction{Transducers.Reduction{Transducers.Map{typeof(identity)}, Transducers.BottomRF{Transducers.Completing{typeof(BangBang.push!!)}}}, Matrix{Float64}}; dims=2, simd=Val{true}())\n\u001b[0mClosest candidates are:\n\u001b[0m  transduce_assoc(::Transducers.Transducer, ::F, ::Any, ::Any; simd, basesize, stoppable, nestlevel) where F at C:\\Users\\mwaugh\\.julia\\packages\\Transducers\\4zaoS\\src\\reduce.jl:104\u001b[91m got unsupported keyword argument \"dims\"\u001b[39m",
      "",
      "Stacktrace:",
      "  [1] kwerr(::NamedTuple{(:dims, :simd), Tuple{Int64, Val{true}}}, ::Function, ::Transducers.IdentityTransducer, ::Function, ::Transducers.InitOf{Folds.Implementations.FoldsInitOf}, ::Transducers.Eduction{Transducers.Reduction{Transducers.Map{typeof(identity)}, Transducers.BottomRF{Transducers.Completing{typeof(BangBang.push!!)}}}, Matrix{Float64}})",
      "    @ Base .\\error.jl:157",
      "  [2] transduce(xf::Transducers.IdentityTransducer, rf::Function, init::Transducers.InitOf{Folds.Implementations.FoldsInitOf}, coll::Transducers.Eduction{Transducers.Reduction{Transducers.Map{typeof(identity)}, Transducers.BottomRF{Transducers.Completing{typeof(BangBang.push!!)}}}, Matrix{Float64}}, exc::ThreadedEx{NamedTuple{(:dims, :simd), Tuple{Int64, Val{true}}}})",
      "    @ Transducers C:\\Users\\mwaugh\\.julia\\packages\\Transducers\\4zaoS\\src\\executors.jl:50",
      "  [3] fold(rf::typeof(max), coll::Transducers.Eduction{Transducers.Reduction{Transducers.Map{typeof(identity)}, Transducers.BottomRF{Transducers.Completing{typeof(BangBang.push!!)}}}, Matrix{Float64}}, exec::ThreadedEx{NamedTuple{(:dims, :simd), Tuple{Int64, Val{true}}}}; init::Transducers.InitOf{Folds.Implementations.FoldsInitOf})",
      "    @ Transducers C:\\Users\\mwaugh\\.julia\\packages\\Transducers\\4zaoS\\src\\executors.jl:55",
      "  [4] mapreduce(f::typeof(identity), op::typeof(max), itr::Matrix{Float64}, ex::ThreadedEx{NamedTuple{(:dims, :simd), Tuple{Int64, Val{true}}}}; init::Transducers.InitOf{Folds.Implementations.FoldsInitOf})",
      "    @ Folds.Implementations C:\\Users\\mwaugh\\.julia\\packages\\Folds\\aLLmX\\src\\reduce.jl:26",
      "  [5] exec(reducer::Function, ex::ThreadedEx{NamedTuple{(:dims,), Tuple{Int64}}}, f::Function, itr::Matrix{Float64}, init::Folds.Implementations.Unspecified)",
      "    @ Folds.Implementations C:\\Users\\mwaugh\\.julia\\packages\\Folds\\aLLmX\\src\\reduce.jl:120",
      "  [6] (::Folds.var\"##typeof_maximum#264\")(f::typeof(identity), itr::Matrix{Float64}; init::Folds.Implementations.Unspecified, kwargs::Base.Iterators.Pairs{Symbol, Int64, Tuple{Symbol}, NamedTuple{(:dims,), Tuple{Int64}}})",
      "    @ Folds.Implementations C:\\Users\\mwaugh\\.julia\\packages\\Folds\\aLLmX\\src\\reduce.jl:130",
      "  [7] (::Folds.var\"##typeof_maximum#264\")(itr::Matrix{Float64}; kwargs::Base.Iterators.Pairs{Symbol, Int64, Tuple{Symbol}, NamedTuple{(:dims,), Tuple{Int64}}})",
      "    @ Folds.Implementations C:\\Users\\mwaugh\\.julia\\packages\\Folds\\aLLmX\\src\\reduce.jl:129",
      "  [8] top-level scope",
      "    @ In[327]:3",
      "  [9] eval",
      "    @ .\\boot.jl:360 [inlined]",
      " [10] include_string(mapexpr::typeof(REPL.softscope), mod::Module, code::String, filename::String)",
      "    @ Base .\\loading.jl:1116"
     ]
    }
   ],
   "source": [
    "r = rand(5,3)\n",
    "\n",
    "Folds.maximum(u[:,:,3], dims = 2)"
   ]
  },
  {
   "cell_type": "code",
   "execution_count": 280,
   "metadata": {},
   "outputs": [
    {
     "data": {
      "text/plain": [
       "5-element view(::Matrix{Float64}, :, 3) with eltype Float64:\n",
       " 0.097318930733294\n",
       " 0.8658557594654419\n",
       " 0.5765459729005302\n",
       " 0.3489377150619797\n",
       " 0.3890127491888071"
      ]
     },
     "execution_count": 280,
     "metadata": {},
     "output_type": "execute_result"
    }
   ],
   "source": [
    "view(r,:,3)"
   ]
  },
  {
   "cell_type": "code",
   "execution_count": 283,
   "metadata": {},
   "outputs": [
    {
     "data": {
      "text/plain": [
       "5×3 Matrix{Float64}:\n",
       " 0.0135991  0.751847   -0.161304\n",
       " 0.0846448  0.0967765  -0.0965891\n",
       " 0.510862   0.999665   -0.0642424\n",
       " 0.185699   0.74594    -0.0457913\n",
       " 0.141676   0.0237141  -0.0342822"
      ]
     },
     "execution_count": 283,
     "metadata": {},
     "output_type": "execute_result"
    }
   ],
   "source": [
    "r"
   ]
  },
  {
   "cell_type": "code",
   "execution_count": null,
   "metadata": {},
   "outputs": [],
   "source": []
  }
 ],
 "metadata": {
  "kernelspec": {
   "display_name": "Julia 1.6.2",
   "language": "julia",
   "name": "julia-1.6"
  },
  "language_info": {
   "file_extension": ".jl",
   "mimetype": "application/julia",
   "name": "julia",
   "version": "1.6.2"
  }
 },
 "nbformat": 4,
 "nbformat_minor": 4
}
