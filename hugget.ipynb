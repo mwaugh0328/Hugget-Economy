{
 "cells": [
  {
   "cell_type": "code",
   "execution_count": 1,
   "metadata": {},
   "outputs": [],
   "source": [
    "using BenchmarkTools, SpecialFunctions\n",
    "using LinearAlgebra, Statistics\n",
    "using Parameters\n",
    "using Plots\n",
    "using Optim #https://github.com/JuliaNLSolvers/Optim.jl\n",
    "using Random, Distributions\n",
    "gr(fmt=:png); # setting for easier display in jupyter notebooks\n",
    "using TypedTables\n",
    "using ThreadsX, Folds # these are multithreading tools\n",
    "using QuantEcon\n",
    "using SparseArrays\n",
    "using BasisMatrices"
   ]
  },
  {
   "cell_type": "code",
   "execution_count": 2,
   "metadata": {},
   "outputs": [
    {
     "data": {
      "text/plain": [
       "##NamedTuple_kw#257 (generic function with 2 methods)"
      ]
     },
     "execution_count": 2,
     "metadata": {},
     "output_type": "execute_result"
    }
   ],
   "source": [
    "model_params = @with_kw (\n",
    "    β= 0.96,\n",
    "    R = 1.0292,\n",
    "    γ = 3.0,\n",
    "    amin = -3.0,\n",
    "    amax = 16.0,\n",
    "    Na=100,\n",
    "    agrid = range(amin,amax,length=Na),\n",
    "    Nshocks = 7,\n",
    "    ρ = 0.20,\n",
    "    σ = 0.3919,\n",
    "    mc= rouwenhorst(Nshocks, ρ, σ),\n",
    "    Niter = 500,\n",
    "    )"
   ]
  },
  {
   "cell_type": "code",
   "execution_count": 44,
   "metadata": {},
   "outputs": [
    {
     "data": {
      "text/plain": [
       "stationary_dist (generic function with 1 method)"
      ]
     },
     "execution_count": 44,
     "metadata": {},
     "output_type": "execute_result"
    }
   ],
   "source": [
    "function consumption(R, a, ap, w)\n",
    "    \n",
    "        c = R*a .- ap .+ w\n",
    "    \n",
    "    return c\n",
    "    \n",
    "end\n",
    "\n",
    "##########################################################################\n",
    "##########################################################################\n",
    "\n",
    "function utility(c, γ)\n",
    "    \n",
    "    if abs(γ - 1.0) < 1e-10\n",
    "        \n",
    "        (c < 1e-5 ? -1e10 : log(c)) \n",
    "\n",
    "    else\n",
    "        (c < 1e-5 ? -1e10 : c^( 1.0 - γ) / (1.0 - γ)) \n",
    "    end\n",
    "\n",
    "end\n",
    "\n",
    "##########################################################################\n",
    "##########################################################################\n",
    "\n",
    "function make_utility(model_params)\n",
    "    \n",
    "    @unpack Na, Nshocks, γ, R, mc, agrid = model_params\n",
    "    \n",
    "    utility_grid = Array{Float64}(undef, Na, Na, Nshocks)\n",
    "    \n",
    "    a =  reshape(agrid, Na, 1)\n",
    "    \n",
    "    a_prime = reshape(agrid, 1, Na)\n",
    "    \n",
    "    for xxx = 1:Nshocks\n",
    "        \n",
    "        c = consumption(R, a, a_prime, exp.(mc.state_values[xxx]))\n",
    "        \n",
    "        utility_grid[:, :, xxx] = utility.(c, γ)\n",
    "    \n",
    "    end\n",
    "    \n",
    "    return utility_grid\n",
    "    \n",
    "end\n",
    "\n",
    "##########################################################################\n",
    "##########################################################################\n",
    "\n",
    "function compute_EV(v::Array{T}, mc_probs::Vector{T}) where T\n",
    "     \n",
    "    # so mc_probs should be a 1 by Nshock row vector \n",
    "    # then v should be Nassset state, Nshock state matrix\n",
    "    # we want to integrate this so transpose, so for a given\n",
    "    # asset state integrate accross different shock outcomes\n",
    "    \n",
    "    return  (mc_probs' * v' )\n",
    "\n",
    "end\n",
    "\n",
    "##########################################################################\n",
    "##########################################################################\n",
    "\n",
    "function value_function_itteration(model_params ; tol = 10^-3)\n",
    "    \n",
    "    @unpack Na, Nshocks, Niter, β, mc = model_params\n",
    "    \n",
    "    u = make_utility(model_params)\n",
    "\n",
    "    Tv = zeros(Na, Nshocks)\n",
    "    \n",
    "    v = similar(Tv)\n",
    "\n",
    "    for iter in 1:Niter\n",
    "\n",
    "        for xxx in 1:Nshocks\n",
    "                    \n",
    "            βEV = compute_EV(β*Tv, mc.p[xxx,:])\n",
    "            \n",
    "            maximum!(view(Tv,:,xxx), u[:, :, xxx] .+ βEV )\n",
    "            \n",
    "            #this is fastest and writes on TV directly\n",
    "            # lower number of allocations too\n",
    "            # the view command is what allows the direct writing on \n",
    "            # a slice of the array, without it, nodice\n",
    "\n",
    "        end\n",
    "    \n",
    "        test_tol = maximum(abs, Tv - v)\n",
    "        \n",
    "        if test_tol < tol\n",
    "            \n",
    "            #println(\"value function converged\")\n",
    "            #println(iter)\n",
    "            #println(test_tol)\n",
    "                        \n",
    "            break\n",
    "        end\n",
    "        \n",
    "        v = copy(Tv)\n",
    "        #copy!(v, Tv)\n",
    "\n",
    "    end\n",
    "    \n",
    "    aindx = Array{CartesianIndex{2}}(undef, size(Tv))\n",
    "            \n",
    "    for xxx = 1:Nshocks\n",
    "                    \n",
    "        βEV = compute_EV(β*Tv, mc.p[xxx,:])\n",
    "        \n",
    "        Tv[:, xxx], aindx[:, xxx] = findmax(u[:, :, xxx] .+ βEV , dims = 2)\n",
    "        # now get the policies\n",
    "\n",
    "    end\n",
    "    \n",
    "    return Tv, aindx\n",
    "end\n",
    "\n",
    "\n",
    "##########################################################################\n",
    "##########################################################################\n",
    "\n",
    "\n",
    "function make_transition_prob(model_params, asset_indx::Matrix{CartesianIndex{2}})\n",
    "      \n",
    "    @unpack Na, Nshocks, mc = model_params\n",
    "\n",
    "    statesize = convert(Int64, Na*Nshocks)\n",
    "    \n",
    "    transition_prob = Array{Float64}(undef, statesize, statesize)\n",
    "\n",
    "    for ast = 1:Na\n",
    "        \n",
    "        ast_counter = convert(Int64, (ast - 1)*Nshocks)\n",
    "            \n",
    "        for shk = 1:Nshocks\n",
    "            \n",
    "            foo = zeros(1, Na)\n",
    "    \n",
    "            foo[asset_indx[ast, shk][2]] = 1.0\n",
    "    \n",
    "            transition_prob[shk + ast_counter, :] = BasisMatrices.row_kron(foo, mc.p[shk,:]' )\n",
    "            # this part on the row still confuses me a bit...need to explain better.\n",
    "            \n",
    "            #println(shk + ast_counter)\n",
    "            \n",
    "        end\n",
    "        \n",
    "    end\n",
    "    \n",
    "    return transition_prob\n",
    "    \n",
    "end\n",
    "\n",
    "##########################################################################\n",
    "##########################################################################\n",
    "\n",
    "function stationary_dist(Q::Array{Float64, 2})\n",
    "    # this is faster than the quant econ canned routine\n",
    "    # from lyon-waugh implementation\n",
    "    \n",
    "    L = zeros(size(Q)[1], 1)\n",
    "    \n",
    "    L[1] = 1.0\n",
    "    \n",
    "    max_it = 5000\n",
    "    \n",
    "    Lnew = similar(L)\n",
    "    \n",
    "    for xxx in 1:max_it\n",
    "        \n",
    "        Lnew = transpose(Q) * L\n",
    "        #this ordering is also better in julia\n",
    "        # than my matlab implementation of Q*L (1, na*nshock)\n",
    "                \n",
    "        err = maximum(abs, L - Lnew)\n",
    "        \n",
    "        copy!(L, Lnew)\n",
    "        # this surprisingly makes a big difference\n",
    "        # but in the vfi it causes a lot of problems?\n",
    "        \n",
    "        err < 1e-10 && break\n",
    "        \n",
    "    end\n",
    "    \n",
    "    return L\n",
    "end"
   ]
  },
  {
   "cell_type": "code",
   "execution_count": 42,
   "metadata": {},
   "outputs": [
    {
     "name": "stdout",
     "output_type": "stream",
     "text": [
      "  48.072 ms (6963 allocations: 121.01 MiB)\n"
     ]
    }
   ],
   "source": [
    "@btime value_function_itteration(test ; tol = 10^-3);"
   ]
  },
  {
   "cell_type": "code",
   "execution_count": 43,
   "metadata": {},
   "outputs": [
    {
     "name": "stdout",
     "output_type": "stream",
     "text": [
      "  64.719 ms (1096 allocations: 6.02 MiB)\n"
     ]
    }
   ],
   "source": [
    "@btime stationary_dist(tprob);"
   ]
  },
  {
   "cell_type": "code",
   "execution_count": 46,
   "metadata": {},
   "outputs": [
    {
     "name": "stdout",
     "output_type": "stream",
     "text": [
      "  64.573 ms (1096 allocations: 6.02 MiB)\n"
     ]
    }
   ],
   "source": [
    "@btime stationary_dist(tprob);"
   ]
  },
  {
   "cell_type": "code",
   "execution_count": 50,
   "metadata": {},
   "outputs": [
    {
     "name": "stdout",
     "output_type": "stream",
     "text": [
      "  0.600580 seconds (20.20 k allocations: 1.255 GiB, 16.11% gc time)\n",
      "vfi done\n",
      "  0.396663 seconds (16.00 k allocations: 252.258 MiB, 3.83% gc time)\n",
      "  1.947633 seconds (1.75 k allocations: 26.739 MiB)\n"
     ]
    },
    {
     "data": {
      "image/png": "[encoded data removed]"
     },
     "execution_count": 50,
     "metadata": {},
     "output_type": "execute_result"
    }
   ],
   "source": [
    "test = model_params(σ = 0.3919, Nshocks = 20, Na = 200, amin = -3.0, amax = 16)\n",
    "\n",
    "@time vfout, pout = value_function_itteration(test ; tol = 10^-3);\n",
    "\n",
    "println(\"vfi done\")\n",
    "\n",
    "@time tprob = make_transition_prob(test, pout);\n",
    "\n",
    "@time  st = stationary_dist(tprob);\n",
    "\n",
    "st = reshape(st,test.Nshocks,test.Na)'\n",
    "\n",
    "plot(test.agrid, sum(st, dims = 2))"
   ]
  },
  {
   "cell_type": "code",
   "execution_count": null,
   "metadata": {},
   "outputs": [],
   "source": []
  }
 ],
 "metadata": {
  "kernelspec": {
   "display_name": "Julia 1.6.2",
   "language": "julia",
   "name": "julia-1.6"
  },
  "language_info": {
   "file_extension": ".jl",
   "mimetype": "application/julia",
   "name": "julia",
   "version": "1.6.2"
  }
 },
 "nbformat": 4,
 "nbformat_minor": 4
}
