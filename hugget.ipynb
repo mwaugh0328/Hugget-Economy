{
 "cells": [
  {
   "cell_type": "code",
   "execution_count": 2,
   "metadata": {},
   "outputs": [],
   "source": [
    "using BenchmarkTools, SpecialFunctions\n",
    "using LinearAlgebra, Statistics\n",
    "using Parameters\n",
    "using Plots\n",
    "using Optim #https://github.com/JuliaNLSolvers/Optim.jl\n",
    "using Random, Distributions\n",
    "gr(fmt=:png); # setting for easier display in jupyter notebooks\n",
    "using TypedTables\n",
    "using ThreadsX, Folds # these are multithreading tools\n",
    "using QuantEcon\n",
    "using SparseArrays\n",
    "using BasisMatrices\n",
    "using NLsolve"
   ]
  },
  {
   "cell_type": "code",
   "execution_count": 3,
   "metadata": {},
   "outputs": [
    {
     "data": {
      "text/plain": [
       "##NamedTuple_kw#257 (generic function with 2 methods)"
      ]
     },
     "execution_count": 3,
     "metadata": {},
     "output_type": "execute_result"
    }
   ],
   "source": [
    "model_params = @with_kw (\n",
    "    β= 0.96,\n",
    "    R = 1.0292,\n",
    "    γ = 3.0,\n",
    "    amin = -3.0,\n",
    "    amax = 16.0,\n",
    "    Na=100,\n",
    "    agrid = range(amin,amax,length=Na),\n",
    "    Nshocks = 7,\n",
    "    ρ = 0.20,\n",
    "    σ = 0.3919,\n",
    "    mc= rouwenhorst(Nshocks, ρ, σ),\n",
    "    Niter = 500,\n",
    "    )"
   ]
  },
  {
   "cell_type": "code",
   "execution_count": 8,
   "metadata": {},
   "outputs": [
    {
     "data": {
      "text/plain": [
       "stationary_dist (generic function with 1 method)"
      ]
     },
     "execution_count": 8,
     "metadata": {},
     "output_type": "execute_result"
    }
   ],
   "source": [
    "function consumption(R, a, ap, w)\n",
    "    \n",
    "        c = R*a .- ap .+ w\n",
    "    \n",
    "    return c\n",
    "    \n",
    "end\n",
    "\n",
    "##########################################################################\n",
    "##########################################################################\n",
    "\n",
    "function utility(c, γ)\n",
    "    \n",
    "    if abs(γ - 1.0) < 1e-10\n",
    "        \n",
    "        (c < 1e-5 ? -1e10 : log(c)) \n",
    "\n",
    "    else\n",
    "        (c < 1e-5 ? -1e10 : c^( 1.0 - γ) / (1.0 - γ)) \n",
    "    end\n",
    "\n",
    "end\n",
    "\n",
    "##########################################################################\n",
    "##########################################################################\n",
    "\n",
    "function make_utility(model_params)\n",
    "    \n",
    "    @unpack Na, Nshocks, γ, R, mc, agrid = model_params\n",
    "    \n",
    "    utility_grid = Array{Float64}(undef, Na, Na, Nshocks)\n",
    "    \n",
    "    a =  reshape(agrid, Na, 1)\n",
    "    \n",
    "    a_prime = reshape(agrid, 1, Na)\n",
    "    \n",
    "    for xxx = 1:Nshocks\n",
    "        \n",
    "        c = consumption(R, a, a_prime, exp.(mc.state_values[xxx]))\n",
    "        \n",
    "        utility_grid[:, :, xxx] = utility.(c, γ)\n",
    "    \n",
    "    end\n",
    "    \n",
    "    return utility_grid\n",
    "    \n",
    "end\n",
    "\n",
    "##########################################################################\n",
    "##########################################################################\n",
    "\n",
    "function compute_EV(v::Array{T}, mc_probs::Vector{T}) where T\n",
    "     \n",
    "    # so mc_probs should be a 1 by Nshock row vector \n",
    "    # then v should be Nassset state, Nshock state matrix\n",
    "    # we want to integrate this so transpose, so for a given\n",
    "    # asset state integrate accross different shock outcomes\n",
    "    \n",
    "    return  (mc_probs' * v' )\n",
    "\n",
    "end\n",
    "\n",
    "##########################################################################\n",
    "##########################################################################\n",
    "\n",
    "function bellman_operator(v,u,mc,β)\n",
    "    \n",
    "        Na = size(u)[1]\n",
    "        Nshocks = size(u)[3]\n",
    "    \n",
    "        Tv = Array{Float64}(undef, Na, Nshocks)\n",
    "    \n",
    "        for xxx in 1:Nshocks\n",
    "                    \n",
    "            βEV = compute_EV(β*v, mc.p[xxx,:])\n",
    "            \n",
    "            maximum!(view(Tv,:,xxx), u[:, :, xxx] .+ βEV )\n",
    "            \n",
    "            #this is fastest and writes on TV directly\n",
    "            # lower number of allocations too\n",
    "            # the view command is what allows the direct writing on \n",
    "            # a slice of the array, without it, nodice\n",
    "\n",
    "        end\n",
    "    \n",
    "    return Tv\n",
    "    \n",
    "end\n",
    "\n",
    "\n",
    "##########################################################################\n",
    "##########################################################################\n",
    "\n",
    "function bellman_operator(v,u,mc,β,policy::Matrix{CartesianIndex{2}})\n",
    "    \n",
    "        Na = size(u)[1]\n",
    "        Nshocks = size(u)[3]\n",
    "    \n",
    "        Tv = Array{Float64}(undef, Na, Nshocks)\n",
    "    \n",
    "        for xxx in 1:Nshocks\n",
    "                    \n",
    "            βEV = compute_EV(β*v, mc.p[xxx,:])\n",
    "            \n",
    "            Tv[:, xxx], policy[:, xxx] = findmax(u[:, :, xxx] .+ βEV , dims = 2)\n",
    "            \n",
    "            #this is fastest and writes on TV directly\n",
    "            # lower number of allocations too\n",
    "            # the view command is what allows the direct writing on \n",
    "            # a slice of the array, without it, nodice\n",
    "\n",
    "        end\n",
    "    \n",
    "    return Tv, policy\n",
    "    \n",
    "end\n",
    "\n",
    "##########################################################################\n",
    "##########################################################################\n",
    "\n",
    "function value_function_itteration(model_params ; tol = 10^-3)\n",
    "    \n",
    "    @unpack Na, Nshocks, Niter, β, mc = model_params\n",
    "    \n",
    "    u = make_utility(model_params)\n",
    "\n",
    "    Tv = zeros(Na, Nshocks)\n",
    "    \n",
    "    v = similar(Tv)\n",
    "\n",
    "    for iter in 1:Niter\n",
    "        \n",
    "        Tv = bellman_operator(Tv,u,mc,β)\n",
    "        #there is some advantage of having it\n",
    "        # explicity, not always recreating the Tv \n",
    "        # array in the function\n",
    "    \n",
    "        test_tol = maximum(abs, Tv - v)\n",
    "        \n",
    "        if test_tol < tol\n",
    "            \n",
    "            #println(\"value function converged\")\n",
    "            #println(iter)\n",
    "            #println(test_tol)\n",
    "                        \n",
    "            break\n",
    "        end\n",
    "        \n",
    "        v = copy(Tv)\n",
    "        #copy!(v, Tv)\n",
    "\n",
    "    end\n",
    "    \n",
    "    policy = Array{CartesianIndex{2}}(undef, size(Tv))\n",
    "            \n",
    "    Tv, policy = bellman_operator(Tv,u,mc,β,policy)\n",
    "    \n",
    "    return Tv, policy\n",
    "    \n",
    "end\n",
    "\n",
    "\n",
    "##########################################################################\n",
    "##########################################################################\n",
    "\n",
    "\n",
    "function make_transition_prob(model_params, asset_indx::Matrix{CartesianIndex{2}})\n",
    "      \n",
    "    @unpack Na, Nshocks, mc = model_params\n",
    "\n",
    "    statesize = Int(Na*Nshocks)\n",
    "    \n",
    "    transition_prob = Array{Float64}(undef, statesize, statesize)\n",
    "    \n",
    "    foo = Array{Float64}(undef, 1, Na) \n",
    "\n",
    "    for ast = 1:Na\n",
    "        \n",
    "        ast_counter = Int((ast - 1)*Nshocks)\n",
    "            \n",
    "        for shk = 1:Nshocks\n",
    "            \n",
    "            fill!(foo, 0.0)\n",
    "    \n",
    "            foo[asset_indx[ast, shk][2]] = 1.0\n",
    "    \n",
    "            transition_prob[shk + ast_counter, :] = BasisMatrices.row_kron(foo, mc.p[shk,:]' )\n",
    "            \n",
    "            # this part on the row still confuses me a bit...need to explain better.\n",
    "            \n",
    "            #println(shk + ast_counter)\n",
    "            \n",
    "        end\n",
    "        \n",
    "    end\n",
    "    \n",
    "    return transition_prob\n",
    "    \n",
    "end\n",
    "\n",
    "\n",
    "function fixed_dist(L::Array{T},Q::Array{T}) where T\n",
    "    \n",
    "    return transpose(Q) * L\n",
    "    \n",
    "end\n",
    "\n",
    "##########################################################################\n",
    "##########################################################################\n",
    "\n",
    "function stationary_dist(Q::Array{Float64, 2})\n",
    "    # this is faster than the quant econ canned routine\n",
    "    # from lyon-waugh implementation\n",
    "    \n",
    "    L = zeros(size(Q)[1], 1)\n",
    "    \n",
    "    L[1] = 1.0\n",
    "    \n",
    "    max_it = 5000\n",
    "    \n",
    "    Lnew = similar(L)\n",
    "    \n",
    "    for xxx in 1:max_it\n",
    "        \n",
    "        Lnew = transpose(Q) * L\n",
    "        #this ordering is also better in julia\n",
    "        # than my matlab implementation of Q*L (1, na*nshock)\n",
    "                \n",
    "        err = maximum(abs, L - Lnew)\n",
    "        \n",
    "        copy!(L, Lnew)\n",
    "        # this surprisingly makes a big difference\n",
    "        # but in the vfi it causes a slowdown?\n",
    "        \n",
    "        err < 1e-10 && break\n",
    "        \n",
    "    end\n",
    "    \n",
    "    return L\n",
    "end"
   ]
  },
  {
   "cell_type": "code",
   "execution_count": 79,
   "metadata": {},
   "outputs": [
    {
     "name": "stdout",
     "output_type": "stream",
     "text": [
      "  182.346 ms (9580 allocations: 659.10 MiB)\n"
     ]
    }
   ],
   "source": [
    "@btime value_function_itteration(test ; tol = 10^-3);"
   ]
  },
  {
   "cell_type": "code",
   "execution_count": 54,
   "metadata": {},
   "outputs": [
    {
     "name": "stdout",
     "output_type": "stream",
     "text": [
      "  486.951 ms (20195 allocations: 1.25 GiB)\n"
     ]
    }
   ],
   "source": [
    "@btime value_function_itteration(test ; tol = 10^-3);"
   ]
  },
  {
   "cell_type": "code",
   "execution_count": 43,
   "metadata": {},
   "outputs": [
    {
     "name": "stdout",
     "output_type": "stream",
     "text": [
      "  64.719 ms (1096 allocations: 6.02 MiB)\n"
     ]
    }
   ],
   "source": [
    "@btime stationary_dist(tprob);"
   ]
  },
  {
   "cell_type": "code",
   "execution_count": 56,
   "metadata": {},
   "outputs": [
    {
     "name": "stdout",
     "output_type": "stream",
     "text": [
      "  1.934 s (1748 allocations: 26.74 MiB)\n"
     ]
    }
   ],
   "source": [
    "@btime stationary_dist(tprob);"
   ]
  },
  {
   "cell_type": "code",
   "execution_count": 31,
   "metadata": {},
   "outputs": [
    {
     "name": "stdout",
     "output_type": "stream",
     "text": [
      "  0.185623 seconds (14.52 k allocations: 256.402 MiB, 26.13% gc time)\n",
      "vfi done\n",
      "  0.010322 seconds (2.00 k allocations: 15.534 MiB)\n",
      "  0.112489 seconds (896 allocations: 6.945 MiB)\n"
     ]
    },
    {
     "data": {
      "image/png": "[encoded data removed]"
     },
     "execution_count": 31,
     "metadata": {},
     "output_type": "execute_result"
    }
   ],
   "source": [
    "test = model_params(σ = 0.3919, Nshocks = 10, Na = 100, amin = -3.0, amax = 8)\n",
    "\n",
    "@time vfout, pout = value_function_itteration(test ; tol = 10^-3);\n",
    "\n",
    "println(\"vfi done\")\n",
    "\n",
    "@time tprob = make_transition_prob(test, pout);\n",
    "\n",
    "@time  st = stationary_dist(tprob);\n",
    "\n",
    "st = reshape(st,test.Nshocks,test.Na)'\n",
    "\n",
    "plot(test.agrid, sum(st, dims = 2))"
   ]
  },
  {
   "cell_type": "markdown",
   "metadata": {},
   "source": [
    "This approach implements solves for the fixed points using nlsolve's fixedpoint routine. It's fast, appears to be very robust."
   ]
  },
  {
   "cell_type": "code",
   "execution_count": 34,
   "metadata": {},
   "outputs": [
    {
     "name": "stdout",
     "output_type": "stream",
     "text": [
      "  0.037345 seconds (6.67 k allocations: 63.194 MiB, 42.39% compilation time)\n",
      "29\n",
      "  0.010863 seconds (2.00 k allocations: 15.534 MiB)\n",
      "  0.057956 seconds (5.41 k allocations: 18.496 MiB, 23.92% compilation time)\n",
      "120\n"
     ]
    },
    {
     "data": {
      "image/png": "[encoded data removed]"
     },
     "execution_count": 34,
     "metadata": {},
     "output_type": "execute_result"
    }
   ],
   "source": [
    "u = make_utility(test)\n",
    "\n",
    "##########################################################\n",
    "\n",
    "f(x) = bellman_operator(x,u,test.mc,test.β)\n",
    "\n",
    "iv = zeros(test.Na, test.Nshocks)\n",
    "\n",
    "@time sol = fixedpoint(f, iv, ftol = 1e-3)\n",
    "println(sol.f_calls)\n",
    "#this approach works very good....\n",
    "\n",
    "policy = Array{CartesianIndex{2}}(undef, size(sol.zero))\n",
    "            \n",
    "vfout, pout = bellman_operator(sol.zero,u,test.mc,test.β,policy);\n",
    "\n",
    "@time tprob = make_transition_prob(test, pout);\n",
    "\n",
    "##########################################################\n",
    "\n",
    "g(x) = fixed_dist(x, tprob)\n",
    "\n",
    "iv = zeros(size(tprob)[1], 1)\n",
    "    \n",
    "iv[1] = 1.0\n",
    "\n",
    "@time sol = fixedpoint(g, iv, ftol = 1e-10)\n",
    "println(sol.f_calls)\n",
    "\n",
    "st = reshape(sol.zero,test.Nshocks,test.Na)';\n",
    "\n",
    "plot(test.agrid, sum(st, dims = 2))"
   ]
  },
  {
   "cell_type": "code",
   "execution_count": 29,
   "metadata": {},
   "outputs": [
    {
     "data": {
      "text/plain": [
       "25"
      ]
     },
     "execution_count": 29,
     "metadata": {},
     "output_type": "execute_result"
    }
   ],
   "source": [
    "sol.f_calls"
   ]
  },
  {
   "cell_type": "code",
   "execution_count": 25,
   "metadata": {},
   "outputs": [
    {
     "name": "stdout",
     "output_type": "stream",
     "text": [
      "  0.073621 seconds (5.41 k allocations: 18.496 MiB, 13.06% gc time, 23.10% compilation time)\n",
      "120\n"
     ]
    },
    {
     "data": {
      "image/png": "[encoded data removed]"
     },
     "execution_count": 25,
     "metadata": {},
     "output_type": "execute_result"
    }
   ],
   "source": [
    "g(x) = fixed_dist(x, tprob)\n",
    "\n",
    "iv = zeros(size(tprob)[1], 1)\n",
    "    \n",
    "iv[1] = 1.0\n",
    "\n",
    "@time sol = fixedpoint(g, iv, ftol = 1e-10)\n",
    "println(sol.f_calls)\n",
    "\n",
    "st = reshape(sol.zero,test.Nshocks,test.Na)';\n",
    "\n",
    "plot(test.agrid, sum(st, dims = 2))"
   ]
  },
  {
   "cell_type": "code",
   "execution_count": 131,
   "metadata": {},
   "outputs": [
    {
     "data": {
      "text/plain": [
       "fixed_dist (generic function with 1 method)"
      ]
     },
     "execution_count": 131,
     "metadata": {},
     "output_type": "execute_result"
    }
   ],
   "source": [
    "\n",
    "    "
   ]
  },
  {
   "cell_type": "code",
   "execution_count": 111,
   "metadata": {},
   "outputs": [
    {
     "data": {
      "text/plain": [
       "84"
      ]
     },
     "execution_count": 111,
     "metadata": {},
     "output_type": "execute_result"
    }
   ],
   "source": [
    "sol.f_calls"
   ]
  },
  {
   "cell_type": "code",
   "execution_count": null,
   "metadata": {},
   "outputs": [],
   "source": []
  }
 ],
 "metadata": {
  "kernelspec": {
   "display_name": "Julia 1.6.2",
   "language": "julia",
   "name": "julia-1.6"
  },
  "language_info": {
   "file_extension": ".jl",
   "mimetype": "application/julia",
   "name": "julia",
   "version": "1.6.2"
  }
 },
 "nbformat": 4,
 "nbformat_minor": 4
}
